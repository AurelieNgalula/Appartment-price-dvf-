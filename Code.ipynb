{
 "cells": [
  {
   "cell_type": "markdown",
   "id": "79dd7cfc",
   "metadata": {
    "id": "79dd7cfc"
   },
   "source": [
    "# Appartment's price using dvf database"
   ]
  },
  {
   "cell_type": "code",
   "execution_count": 1,
   "id": "kvpsZCaAE8GS",
   "metadata": {
    "colab": {
     "base_uri": "https://localhost:8080/"
    },
    "executionInfo": {
     "elapsed": 10059,
     "status": "ok",
     "timestamp": 1679827142506,
     "user": {
      "displayName": "Aurelie NGALULA",
      "userId": "12113917455542123315"
     },
     "user_tz": -120
    },
    "id": "kvpsZCaAE8GS",
    "outputId": "5934e94d-7c8d-41ca-fa9d-785b51b9c58e"
   },
   "outputs": [
    {
     "name": "stdout",
     "output_type": "stream",
     "text": [
      "Looking in indexes: https://pypi.org/simple, https://us-python.pkg.dev/colab-wheels/public/simple/\n",
      "Collecting econtools\n",
      "  Downloading econtools-0.3.2-py3-none-any.whl (536 kB)\n",
      "\u001b[2K     \u001b[90m━━━━━━━━━━━━━━━━━━━━━━━━━━━━━━━━━━━━━━━\u001b[0m \u001b[32m536.6/536.6 KB\u001b[0m \u001b[31m5.0 MB/s\u001b[0m eta \u001b[36m0:00:00\u001b[0m\n",
      "\u001b[?25hRequirement already satisfied: pandas>=0.16.0 in /usr/local/lib/python3.9/dist-packages (from econtools) (1.4.4)\n",
      "Requirement already satisfied: scipy in /usr/local/lib/python3.9/dist-packages (from econtools) (1.10.1)\n",
      "Requirement already satisfied: numpy>=1.9.2 in /usr/local/lib/python3.9/dist-packages (from econtools) (1.22.4)\n",
      "Requirement already satisfied: python-dateutil>=2.8.1 in /usr/local/lib/python3.9/dist-packages (from pandas>=0.16.0->econtools) (2.8.2)\n",
      "Requirement already satisfied: pytz>=2020.1 in /usr/local/lib/python3.9/dist-packages (from pandas>=0.16.0->econtools) (2022.7.1)\n",
      "Requirement already satisfied: six>=1.5 in /usr/local/lib/python3.9/dist-packages (from python-dateutil>=2.8.1->pandas>=0.16.0->econtools) (1.16.0)\n",
      "Installing collected packages: econtools\n",
      "Successfully installed econtools-0.3.2\n"
     ]
    }
   ],
   "source": [
    "!pip install econtools"
   ]
  },
  {
   "cell_type": "code",
   "execution_count": 2,
   "id": "561fbf49",
   "metadata": {
    "executionInfo": {
     "elapsed": 3116,
     "status": "ok",
     "timestamp": 1679827145611,
     "user": {
      "displayName": "Aurelie NGALULA",
      "userId": "12113917455542123315"
     },
     "user_tz": -120
    },
    "id": "561fbf49"
   },
   "outputs": [],
   "source": [
    "import numpy as np\n",
    "import pandas as pd\n",
    "import matplotlib.pyplot as plt\n",
    "import seaborn as sns\n",
    "import math\n",
    "from sklearn.neighbors import KDTree"
   ]
  },
  {
   "cell_type": "code",
   "execution_count": 3,
   "id": "spVhUHUPhfQM",
   "metadata": {
    "executionInfo": {
     "elapsed": 22,
     "status": "ok",
     "timestamp": 1679827145613,
     "user": {
      "displayName": "Aurelie NGALULA",
      "userId": "12113917455542123315"
     },
     "user_tz": -120
    },
    "id": "spVhUHUPhfQM"
   },
   "outputs": [],
   "source": [
    "import econtools.metrics as mt\n",
    "from sklearn.ensemble import GradientBoostingRegressor\n",
    "from sklearn.ensemble import RandomForestRegressor\n",
    "from sklearn.inspection import permutation_importance\n",
    "from sklearn.metrics import mean_squared_error,mean_absolute_percentage_error,r2_score"
   ]
  },
  {
   "cell_type": "code",
   "execution_count": 4,
   "id": "2LcAwnxgO3g2",
   "metadata": {
    "colab": {
     "base_uri": "https://localhost:8080/"
    },
    "executionInfo": {
     "elapsed": 26006,
     "status": "ok",
     "timestamp": 1679827171599,
     "user": {
      "displayName": "Aurelie NGALULA",
      "userId": "12113917455542123315"
     },
     "user_tz": -120
    },
    "id": "2LcAwnxgO3g2",
    "outputId": "3cc1200c-0e9b-4aa8-d171-d62fe9404112"
   },
   "outputs": [
    {
     "name": "stdout",
     "output_type": "stream",
     "text": [
      "Mounted at /content/drive\n"
     ]
    }
   ],
   "source": [
    "from google.colab import drive\n",
    "drive.mount('/content/drive')"
   ]
  },
  {
   "cell_type": "code",
   "execution_count": 5,
   "id": "EoYzygHNPEG1",
   "metadata": {
    "colab": {
     "base_uri": "https://localhost:8080/"
    },
    "executionInfo": {
     "elapsed": 11366,
     "status": "ok",
     "timestamp": 1679827182949,
     "user": {
      "displayName": "Aurelie NGALULA",
      "userId": "12113917455542123315"
     },
     "user_tz": -120
    },
    "id": "EoYzygHNPEG1",
    "outputId": "26ede6f2-731e-46ad-c0f6-999fd1616dd3"
   },
   "outputs": [
    {
     "name": "stderr",
     "output_type": "stream",
     "text": [
      "<ipython-input-5-2fbca585628c>:1: DtypeWarning: Columns (10) have mixed types. Specify dtype option on import or set low_memory=False.\n",
      "  data = pd.read_csv(\"/content/drive/MyDrive/ValeursFoncieresActualiseesAnciens.csv\", sep =',')\n"
     ]
    }
   ],
   "source": [
    "data = pd.read_csv(\"/content/drive/MyDrive/ValeursFoncieresActualiseesAnciens.csv\", sep =',')"
   ]
  },
  {
   "cell_type": "markdown",
   "id": "96699bcc",
   "metadata": {
    "id": "96699bcc"
   },
   "source": [
    "## Data processing"
   ]
  },
  {
   "cell_type": "code",
   "execution_count": 6,
   "id": "33a2f86f",
   "metadata": {
    "colab": {
     "base_uri": "https://localhost:8080/"
    },
    "executionInfo": {
     "elapsed": 21,
     "status": "ok",
     "timestamp": 1679827182952,
     "user": {
      "displayName": "Aurelie NGALULA",
      "userId": "12113917455542123315"
     },
     "user_tz": -120
    },
    "id": "33a2f86f",
    "outputId": "50903b1b-9e88-462e-eddc-f837f5593434",
    "scrolled": false
   },
   "outputs": [
    {
     "name": "stdout",
     "output_type": "stream",
     "text": [
      "General information on the DataFrame\n",
      "<class 'pandas.core.frame.DataFrame'>\n",
      "RangeIndex: 4773715 entries, 0 to 4773714\n",
      "Data columns (total 12 columns):\n",
      " #   Column                     Dtype  \n",
      "---  ------                     -----  \n",
      " 0   id_mutation                object \n",
      " 1   valeur_fonciere            float64\n",
      " 2   date_mutation              object \n",
      " 3   surface_reelle_bati        float64\n",
      " 4   surface_terrain            float64\n",
      " 5   longitude                  float64\n",
      " 6   latitude                   float64\n",
      " 7   code_type_local            float64\n",
      " 8   nombre_pieces_principales  float64\n",
      " 9   code_postal                float64\n",
      " 10  code_commune               object \n",
      " 11  count_date                 int64  \n",
      "dtypes: float64(8), int64(1), object(3)\n",
      "memory usage: 437.0+ MB\n"
     ]
    }
   ],
   "source": [
    "print(\"General information on the DataFrame\")\n",
    "data.info(verbose = True)"
   ]
  },
  {
   "cell_type": "markdown",
   "id": "593ddf87",
   "metadata": {
    "id": "593ddf87"
   },
   "source": [
    "#### Missing values"
   ]
  },
  {
   "cell_type": "code",
   "execution_count": 7,
   "id": "66c4f759",
   "metadata": {
    "colab": {
     "base_uri": "https://localhost:8080/"
    },
    "executionInfo": {
     "elapsed": 1675,
     "status": "ok",
     "timestamp": 1679827184613,
     "user": {
      "displayName": "Aurelie NGALULA",
      "userId": "12113917455542123315"
     },
     "user_tz": -120
    },
    "id": "66c4f759",
    "outputId": "d8a140e2-1b80-4af7-db6c-7ab88da66670"
   },
   "outputs": [
    {
     "name": "stdout",
     "output_type": "stream",
     "text": [
      "Percentage of missing data \n"
     ]
    },
    {
     "data": {
      "text/plain": [
       "id_mutation                  0.000000\n",
       "valeur_fonciere              0.079561\n",
       "date_mutation                0.000000\n",
       "surface_reelle_bati          0.000000\n",
       "surface_terrain              0.000000\n",
       "longitude                    1.205958\n",
       "latitude                     1.205958\n",
       "code_type_local              0.000000\n",
       "nombre_pieces_principales    0.000000\n",
       "code_postal                  0.004483\n",
       "code_commune                 0.000000\n",
       "count_date                   0.000000\n",
       "dtype: float64"
      ]
     },
     "execution_count": 7,
     "metadata": {},
     "output_type": "execute_result"
    }
   ],
   "source": [
    "percentage_missing_values = (data.isnull().mean()*100)\n",
    "print(\"Percentage of missing data \")\n",
    "percentage_missing_values"
   ]
  },
  {
   "cell_type": "markdown",
   "id": "9dac14f1",
   "metadata": {
    "id": "9dac14f1"
   },
   "source": [
    "#### Search and delete duplicates. we also deleted the observations with missing values in the variables land_value, longitude and latitude. This choice is justified by the low percentage of missing values for these variables."
   ]
  },
  {
   "cell_type": "code",
   "execution_count": 8,
   "id": "c92139fb",
   "metadata": {
    "executionInfo": {
     "elapsed": 8367,
     "status": "ok",
     "timestamp": 1679827192971,
     "user": {
      "displayName": "Aurelie NGALULA",
      "userId": "12113917455542123315"
     },
     "user_tz": -120
    },
    "id": "c92139fb",
    "scrolled": false
   },
   "outputs": [],
   "source": [
    "data.drop_duplicates(inplace=True)"
   ]
  },
  {
   "cell_type": "code",
   "execution_count": 9,
   "id": "mFspTSgtmBt7",
   "metadata": {
    "executionInfo": {
     "elapsed": 16,
     "status": "ok",
     "timestamp": 1679827192973,
     "user": {
      "displayName": "Aurelie NGALULA",
      "userId": "12113917455542123315"
     },
     "user_tz": -120
    },
    "id": "mFspTSgtmBt7"
   },
   "outputs": [],
   "source": [
    "data = data.dropna(subset=['valeur_fonciere','longitude', 'latitude'])"
   ]
  },
  {
   "cell_type": "markdown",
   "id": "-i2FQv9GPFD2",
   "metadata": {
    "id": "-i2FQv9GPFD2"
   },
   "source": [
    "#### Delete sales under 10000 euros"
   ]
  },
  {
   "cell_type": "code",
   "execution_count": 10,
   "id": "2d91e7e7",
   "metadata": {
    "executionInfo": {
     "elapsed": 548,
     "status": "ok",
     "timestamp": 1679827193509,
     "user": {
      "displayName": "Aurelie NGALULA",
      "userId": "12113917455542123315"
     },
     "user_tz": -120
    },
    "id": "2d91e7e7"
   },
   "outputs": [],
   "source": [
    "filtre = data.valeur_fonciere < 10000\n",
    "data = data.drop(data[filtre].index, axis = 0)"
   ]
  },
  {
   "cell_type": "markdown",
   "id": "zWErpaKJPDoU",
   "metadata": {
    "id": "zWErpaKJPDoU"
   },
   "source": [
    "#### Eliminate flats of less than 9 m²"
   ]
  },
  {
   "cell_type": "code",
   "execution_count": 11,
   "id": "bPg707pwHjZl",
   "metadata": {
    "executionInfo": {
     "elapsed": 540,
     "status": "ok",
     "timestamp": 1679827194042,
     "user": {
      "displayName": "Aurelie NGALULA",
      "userId": "12113917455542123315"
     },
     "user_tz": -120
    },
    "id": "bPg707pwHjZl"
   },
   "outputs": [],
   "source": [
    "filtre = data.surface_reelle_bati < 9\n",
    "data = data.drop(data[filtre].index, axis = 0)"
   ]
  },
  {
   "cell_type": "markdown",
   "id": "462e8faf",
   "metadata": {
    "id": "462e8faf"
   },
   "source": [
    "###  type correction"
   ]
  },
  {
   "cell_type": "code",
   "execution_count": 12,
   "id": "815f4a47",
   "metadata": {
    "executionInfo": {
     "elapsed": 4961,
     "status": "ok",
     "timestamp": 1679827199000,
     "user": {
      "displayName": "Aurelie NGALULA",
      "userId": "12113917455542123315"
     },
     "user_tz": -120
    },
    "id": "815f4a47"
   },
   "outputs": [],
   "source": [
    "cols_to_int = ['nombre_pieces_principales', 'code_commune',\n",
    "               'code_type_local', 'code_postal', \n",
    "               'valeur_fonciere'\n",
    "               ]\n",
    "def to_int(data, cols):\n",
    "    for col in cols:\n",
    "        data[col] = data[col].astype('Int64', errors=\"ignore\")\n",
    "    return data\n",
    "valeurs_foncieres = to_int(data, cols_to_int)\n",
    "\n",
    "data.date_mutation = pd.to_datetime(data.date_mutation)"
   ]
  },
  {
   "cell_type": "markdown",
   "id": "k5WP5YMZZDqh",
   "metadata": {
    "id": "k5WP5YMZZDqh"
   },
   "source": [
    "### General featuring\n",
    "We decide to create three new variables. One that indicates the quarter and the year, it will be a categorical variable, which considers the number of quarters since the oldest date in the database and indicates in which quarter the transfer took place, considering the first quarter as the oldest date. Another that is interested the department. The third is the price per square meter\n"
   ]
  },
  {
   "cell_type": "code",
   "execution_count": 13,
   "id": "95463ad5",
   "metadata": {
    "executionInfo": {
     "elapsed": 2446,
     "status": "ok",
     "timestamp": 1679827201437,
     "user": {
      "displayName": "Aurelie NGALULA",
      "userId": "12113917455542123315"
     },
     "user_tz": -120
    },
    "id": "95463ad5"
   },
   "outputs": [],
   "source": [
    "# department new variable\n",
    "data[\"department\"]= [str(code)[:2] if len(str(code))==5 else '0'+str(code)[:1] for code in data.code_commune]"
   ]
  },
  {
   "cell_type": "code",
   "execution_count": 14,
   "id": "jCcNFEbBb8Cz",
   "metadata": {
    "executionInfo": {
     "elapsed": 16751,
     "status": "ok",
     "timestamp": 1679827218178,
     "user": {
      "displayName": "Aurelie NGALULA",
      "userId": "12113917455542123315"
     },
     "user_tz": -120
    },
    "id": "jCcNFEbBb8Cz"
   },
   "outputs": [],
   "source": [
    "# temporal aspect\n",
    "begin_date = min(data.date_mutation)\n",
    "\n",
    "data[\"yearquater\"] = [((date.year - begin_date.year) * 4) + ((date.month - 1) // 3 - (begin_date.month - 1) // 3) + 1 for date in data.date_mutation]"
   ]
  },
  {
   "cell_type": "code",
   "execution_count": 15,
   "id": "wZ-4aL2Fej1U",
   "metadata": {
    "executionInfo": {
     "elapsed": 15,
     "status": "ok",
     "timestamp": 1679827218182,
     "user": {
      "displayName": "Aurelie NGALULA",
      "userId": "12113917455542123315"
     },
     "user_tz": -120
    },
    "id": "wZ-4aL2Fej1U"
   },
   "outputs": [],
   "source": [
    "# price per square meter\n",
    "\n",
    "data[\"price\"] = data[\"valeur_fonciere\"] / data[\"surface_reelle_bati\"]\n"
   ]
  },
  {
   "cell_type": "markdown",
   "id": "t46Zxk7XwnG_",
   "metadata": {
    "id": "t46Zxk7XwnG_"
   },
   "source": [
    "## Working on apartement"
   ]
  },
  {
   "cell_type": "code",
   "execution_count": 16,
   "id": "lPTlgJ5VwsGO",
   "metadata": {
    "executionInfo": {
     "elapsed": 829,
     "status": "ok",
     "timestamp": 1679827218999,
     "user": {
      "displayName": "Aurelie NGALULA",
      "userId": "12113917455542123315"
     },
     "user_tz": -120
    },
    "id": "lPTlgJ5VwsGO"
   },
   "outputs": [],
   "source": [
    "data_apt = data[(data['code_type_local']==2)]"
   ]
  },
  {
   "cell_type": "code",
   "execution_count": 17,
   "id": "g17OiC4NWnKO",
   "metadata": {
    "executionInfo": {
     "elapsed": 13,
     "status": "ok",
     "timestamp": 1679827219001,
     "user": {
      "displayName": "Aurelie NGALULA",
      "userId": "12113917455542123315"
     },
     "user_tz": -120
    },
    "id": "g17OiC4NWnKO"
   },
   "outputs": [],
   "source": [
    "def avg_price_10NN(data):\n",
    "  # Creation of a new column for the average price of the 10 closest properties geographically\n",
    "  data[\"avg_price_10NN\"] = np.nan\n",
    "\n",
    "  # Convert the input data to a numpy array\n",
    "  data_arr = data.values\n",
    "    \n",
    "  # Loop on each department to calculate the average price of the 10 closest properties geographically\n",
    "  for dept in np.unique(data_arr[:, 0]):\n",
    "    # Extraction of data for a given department\n",
    "    data_dept = data_arr[data_arr[:, 0] == dept]\n",
    "        \n",
    "    # Building the kd-tree for the department\n",
    "    tree = KDTree(data_dept[:, 1:3], leaf_size=10)\n",
    "        \n",
    "    # Find the 10 nearest neighbors for each observation in the department\n",
    "    distances, indices = tree.query(data_dept[:, 1:3], k=11)\n",
    "        \n",
    "    # Calculate the average price of the 10 closest properties geographically for each observation\n",
    "    avg_prices = np.mean(data_dept[indices[:, 1:], 3], axis=1)\n",
    "        \n",
    "    # Update the \"average_10_nearest_price\" column for the current department\n",
    "    data_arr[data_arr[:, 0] == dept, 4] = avg_prices\n",
    "    \n",
    "    \n",
    "  return data_arr\n"
   ]
  },
  {
   "cell_type": "code",
   "execution_count": 18,
   "id": "b_PSBSDplo2u",
   "metadata": {
    "colab": {
     "base_uri": "https://localhost:8080/"
    },
    "executionInfo": {
     "elapsed": 21623,
     "status": "ok",
     "timestamp": 1679827240612,
     "user": {
      "displayName": "Aurelie NGALULA",
      "userId": "12113917455542123315"
     },
     "user_tz": -120
    },
    "id": "b_PSBSDplo2u",
    "outputId": "ef8c1c89-ad71-4709-c146-d54aed732ebb"
   },
   "outputs": [
    {
     "name": "stderr",
     "output_type": "stream",
     "text": [
      "<ipython-input-17-950d322f176b>:3: SettingWithCopyWarning: \n",
      "A value is trying to be set on a copy of a slice from a DataFrame.\n",
      "Try using .loc[row_indexer,col_indexer] = value instead\n",
      "\n",
      "See the caveats in the documentation: https://pandas.pydata.org/pandas-docs/stable/user_guide/indexing.html#returning-a-view-versus-a-copy\n",
      "  data[\"avg_price_10NN\"] = np.nan\n",
      "<ipython-input-18-49a4e4e5a222>:3: SettingWithCopyWarning: \n",
      "A value is trying to be set on a copy of a slice from a DataFrame.\n",
      "Try using .loc[row_indexer,col_indexer] = value instead\n",
      "\n",
      "See the caveats in the documentation: https://pandas.pydata.org/pandas-docs/stable/user_guide/indexing.html#returning-a-view-versus-a-copy\n",
      "  data_apt['avg_price_10NN'] = dat[:,4].astype(float)\n"
     ]
    }
   ],
   "source": [
    "data_np = data_apt[['department','latitude','longitude','price']]\n",
    "dat = avg_price_10NN(data_np)\n",
    "data_apt['avg_price_10NN'] = dat[:,4].astype(float)"
   ]
  },
  {
   "cell_type": "code",
   "execution_count": 19,
   "id": "sNI_s0zHx3ee",
   "metadata": {
    "executionInfo": {
     "elapsed": 20,
     "status": "ok",
     "timestamp": 1679827240615,
     "user": {
      "displayName": "Aurelie NGALULA",
      "userId": "12113917455542123315"
     },
     "user_tz": -120
    },
    "id": "sNI_s0zHx3ee"
   },
   "outputs": [],
   "source": [
    "del dat\n",
    "del data_np"
   ]
  },
  {
   "cell_type": "code",
   "execution_count": 20,
   "id": "nmvYh8NopCOt",
   "metadata": {
    "colab": {
     "base_uri": "https://localhost:8080/",
     "height": 252
    },
    "executionInfo": {
     "elapsed": 977,
     "status": "ok",
     "timestamp": 1679827241576,
     "user": {
      "displayName": "Aurelie NGALULA",
      "userId": "12113917455542123315"
     },
     "user_tz": -120
    },
    "id": "nmvYh8NopCOt",
    "outputId": "5e1cd2bc-2e61-4b2d-dcc5-b6baa10e2edf"
   },
   "outputs": [
    {
     "data": {
      "image/png": "[encoded data removed]",
      "text/plain": [
       "<Figure size 432x288 with 1 Axes>"
      ]
     },
     "metadata": {
      "needs_background": "light"
     },
     "output_type": "display_data"
    }
   ],
   "source": [
    "# boxplot price \n",
    "import matplotlib.pyplot as plt\n",
    "sns.boxplot( y= np.log(data_apt['price']));\n",
    "plt.show()"
   ]
  },
  {
   "cell_type": "markdown",
   "id": "NP2gNwnI0biA",
   "metadata": {
    "id": "NP2gNwnI0biA"
   },
   "source": [
    "Let's remove outliers"
   ]
  },
  {
   "cell_type": "code",
   "execution_count": 21,
   "id": "lfv8J-mr_M08",
   "metadata": {
    "executionInfo": {
     "elapsed": 42,
     "status": "ok",
     "timestamp": 1679827241579,
     "user": {
      "displayName": "Aurelie NGALULA",
      "userId": "12113917455542123315"
     },
     "user_tz": -120
    },
    "id": "lfv8J-mr_M08"
   },
   "outputs": [],
   "source": [
    "def remove_outliers(df):\n",
    "  q3 = df['price'].quantile(0.75)\n",
    "  q1 = df['price'].quantile(0.25)\n",
    "  IQR = q3 - q1\n",
    "  return df[df['price'].between(q1 ,q3 + 1.5*IQR)]"
   ]
  },
  {
   "cell_type": "markdown",
   "id": "fyKzmPcnsnkR",
   "metadata": {
    "id": "fyKzmPcnsnkR"
   },
   "source": [
    "Now we choose only the department of the 10 largest cities"
   ]
  },
  {
   "cell_type": "code",
   "execution_count": 22,
   "id": "fpv9GD5kGcsO",
   "metadata": {
    "executionInfo": {
     "elapsed": 42,
     "status": "ok",
     "timestamp": 1679827241581,
     "user": {
      "displayName": "Aurelie NGALULA",
      "userId": "12113917455542123315"
     },
     "user_tz": -120
    },
    "id": "fpv9GD5kGcsO"
   },
   "outputs": [],
   "source": [
    "#{'Paris':'75','Lyon':'69','Lille':'59','Bordeaux':'33','Marseille':'13','Toulouse':'31','Nantes':'44','Montpellier':'34','Strasbourg':'67', 'Nice':'06'}\n",
    "top_10 = ('75','69','59','33','13','31','44','34','67','06')"
   ]
  },
  {
   "cell_type": "code",
   "execution_count": 23,
   "id": "GRdNl20CGeyV",
   "metadata": {
    "executionInfo": {
     "elapsed": 41,
     "status": "ok",
     "timestamp": 1679827241583,
     "user": {
      "displayName": "Aurelie NGALULA",
      "userId": "12113917455542123315"
     },
     "user_tz": -120
    },
    "id": "GRdNl20CGeyV"
   },
   "outputs": [],
   "source": [
    "def get_city(data):\n",
    "  df = remove_outliers(data[data['department'].isin(top_10)]) \n",
    "  return df"
   ]
  },
  {
   "cell_type": "code",
   "execution_count": 24,
   "id": "bs9_UWPRH4gQ",
   "metadata": {
    "executionInfo": {
     "elapsed": 42,
     "status": "ok",
     "timestamp": 1679827241586,
     "user": {
      "displayName": "Aurelie NGALULA",
      "userId": "12113917455542123315"
     },
     "user_tz": -120
    },
    "id": "bs9_UWPRH4gQ"
   },
   "outputs": [],
   "source": [
    "new_set = get_city(data_apt)"
   ]
  },
  {
   "cell_type": "markdown",
   "id": "y12n3zDV1xqK",
   "metadata": {
    "id": "y12n3zDV1xqK"
   },
   "source": [
    "Now let's split the data using the date to form the training and validation sets."
   ]
  },
  {
   "cell_type": "code",
   "execution_count": 25,
   "id": "OJJkBs9gF_Kd",
   "metadata": {
    "executionInfo": {
     "elapsed": 43,
     "status": "ok",
     "timestamp": 1679827241588,
     "user": {
      "displayName": "Aurelie NGALULA",
      "userId": "12113917455542123315"
     },
     "user_tz": -120
    },
    "id": "OJJkBs9gF_Kd"
   },
   "outputs": [],
   "source": [
    "# Sorting of the data frame by ascending order of the transfer date\n",
    "df = new_set.sort_values('date_mutation')\n",
    "df['log_price'] = np.log(df['price'])\n",
    "df['log_avg_price_10NN'] = np.log(df['avg_price_10NN'])\n",
    "split = 0.8\n",
    "X = df[['surface_reelle_bati', 'nombre_pieces_principales','log_avg_price_10NN']]\n",
    "y = df[['log_price','price']]"
   ]
  },
  {
   "cell_type": "code",
   "execution_count": 26,
   "id": "2DJtewXiRtXo",
   "metadata": {
    "executionInfo": {
     "elapsed": 42,
     "status": "ok",
     "timestamp": 1679827241589,
     "user": {
      "displayName": "Aurelie NGALULA",
      "userId": "12113917455542123315"
     },
     "user_tz": -120
    },
    "id": "2DJtewXiRtXo"
   },
   "outputs": [],
   "source": [
    "n = math.ceil(split*len(y))\n",
    "X_train, X_test = X.iloc[:n], X.iloc[n:-1]\n",
    "y_train, y_test =  y[:n], y[n:-1]"
   ]
  },
  {
   "cell_type": "markdown",
   "id": "lDS2P0Hk3O3H",
   "metadata": {
    "id": "lDS2P0Hk3O3H"
   },
   "source": [
    "### OLS"
   ]
  },
  {
   "cell_type": "code",
   "execution_count": 27,
   "id": "bK9HBZBeGR0s",
   "metadata": {
    "executionInfo": {
     "elapsed": 40,
     "status": "ok",
     "timestamp": 1679827241589,
     "user": {
      "displayName": "Aurelie NGALULA",
      "userId": "12113917455542123315"
     },
     "user_tz": -120
    },
    "id": "bK9HBZBeGR0s"
   },
   "outputs": [],
   "source": [
    "train = df[['log_price','surface_reelle_bati', 'nombre_pieces_principales','log_avg_price_10NN','price']].iloc[:n]\n",
    "test = df[['log_price','surface_reelle_bati', 'nombre_pieces_principales','log_avg_price_10NN','price']].iloc[n:-1]"
   ]
  },
  {
   "cell_type": "code",
   "execution_count": 28,
   "id": "WALj7iIYF9W8",
   "metadata": {
    "colab": {
     "base_uri": "https://localhost:8080/"
    },
    "executionInfo": {
     "elapsed": 3718,
     "status": "ok",
     "timestamp": 1679827245268,
     "user": {
      "displayName": "Aurelie NGALULA",
      "userId": "12113917455542123315"
     },
     "user_tz": -120
    },
    "id": "WALj7iIYF9W8",
    "outputId": "b7b8190c-aabc-4cfe-d23d-db04fdaf80cb"
   },
   "outputs": [
    {
     "data": {
      "text/plain": [
       "0.19442965715407026"
      ]
     },
     "execution_count": 28,
     "metadata": {},
     "output_type": "execute_result"
    }
   ],
   "source": [
    "lin_reg = mt.reg(train,'log_price',['surface_reelle_bati', 'nombre_pieces_principales','log_avg_price_10NN'],vce_type='robust',addcons=False)\n",
    "#test['_cons'] = [1 for i in range(len(test))]\n",
    "features = ['surface_reelle_bati', 'nombre_pieces_principales','log_avg_price_10NN']\n",
    "test['prediction'] = [sum([lin_reg.beta[f]*(test[f].iloc[i]) for f in features]) for i in range(len(test))]\n",
    "np.mean(np.abs((np.exp(test['prediction'])-test['price'])/test['price']))"
   ]
  },
  {
   "cell_type": "markdown",
   "id": "ot_wQaqXDXqc",
   "metadata": {
    "id": "ot_wQaqXDXqc"
   },
   "source": [
    "### Random forest "
   ]
  },
  {
   "cell_type": "code",
   "execution_count": 31,
   "id": "Iwc05wJKDDR6",
   "metadata": {
    "executionInfo": {
     "elapsed": 34808,
     "status": "ok",
     "timestamp": 1679827280068,
     "user": {
      "displayName": "Aurelie NGALULA",
      "userId": "12113917455542123315"
     },
     "user_tz": -120
    },
    "id": "Iwc05wJKDDR6"
   },
   "outputs": [],
   "source": [
    "rf = RandomForestRegressor(n_estimators=100,max_depth=6)\n",
    "\n",
    "rf.fit(X_train,y_train['log_price'])\n",
    "\n",
    "y_pred = rf.predict(X_test)"
   ]
  },
  {
   "cell_type": "code",
   "execution_count": 33,
   "id": "A6sCLhfFsnY3",
   "metadata": {
    "colab": {
     "base_uri": "https://localhost:8080/"
    },
    "executionInfo": {
     "elapsed": 28,
     "status": "ok",
     "timestamp": 1679827280071,
     "user": {
      "displayName": "Aurelie NGALULA",
      "userId": "12113917455542123315"
     },
     "user_tz": -120
    },
    "id": "A6sCLhfFsnY3",
    "outputId": "a1a588bb-24be-4ccd-f66c-ebac8c192566"
   },
   "outputs": [
    {
     "name": "stdout",
     "output_type": "stream",
     "text": [
      "R squared on test set: 0.7577\n"
     ]
    }
   ],
   "source": [
    "rsquared = r2_score(y_test['price'],np.exp(y_pred))\n",
    "print(\"R squared on test set: {:.4f}\".format(rsquared))"
   ]
  },
  {
   "cell_type": "code",
   "execution_count": 34,
   "id": "GFdWaD5GD9Qq",
   "metadata": {
    "colab": {
     "base_uri": "https://localhost:8080/"
    },
    "executionInfo": {
     "elapsed": 25,
     "status": "ok",
     "timestamp": 1679827280073,
     "user": {
      "displayName": "Aurelie NGALULA",
      "userId": "12113917455542123315"
     },
     "user_tz": -120
    },
    "id": "GFdWaD5GD9Qq",
    "outputId": "99dba0a5-8ed8-4f88-e2ad-d20dc05ddc0d"
   },
   "outputs": [
    {
     "name": "stdout",
     "output_type": "stream",
     "text": [
      " mean absolute percentage error on test set: 0.1627\n"
     ]
    }
   ],
   "source": [
    "mae = mean_absolute_percentage_error(y_test['price'],np.exp(y_pred))\n",
    "print(\" mean absolute percentage error on test set: {:.4f}\".format(mae))"
   ]
  },
  {
   "cell_type": "markdown",
   "id": "VijfDSc8JQEo",
   "metadata": {
    "id": "VijfDSc8JQEo"
   },
   "source": [
    "### Gradient Boosting Regressor"
   ]
  },
  {
   "cell_type": "code",
   "execution_count": 35,
   "id": "UTZhbVOrT4hu",
   "metadata": {
    "executionInfo": {
     "elapsed": 20,
     "status": "ok",
     "timestamp": 1679827280074,
     "user": {
      "displayName": "Aurelie NGALULA",
      "userId": "12113917455542123315"
     },
     "user_tz": -120
    },
    "id": "UTZhbVOrT4hu"
   },
   "outputs": [],
   "source": [
    "params = {\n",
    "    \"n_estimators\": 500,\n",
    "    \"max_depth\": 4,\n",
    "    \"min_samples_split\": 5,\n",
    "    \"learning_rate\": 0.01,\n",
    "    \"loss\": \"squared_error\",\n",
    "}"
   ]
  },
  {
   "cell_type": "code",
   "execution_count": 36,
   "id": "EpWiYT2dXeih",
   "metadata": {
    "colab": {
     "base_uri": "https://localhost:8080/",
     "height": 92
    },
    "executionInfo": {
     "elapsed": 171177,
     "status": "ok",
     "timestamp": 1679827451232,
     "user": {
      "displayName": "Aurelie NGALULA",
      "userId": "12113917455542123315"
     },
     "user_tz": -120
    },
    "id": "EpWiYT2dXeih",
    "outputId": "f912e3be-1233-4ec5-a8a9-a7ba3c848b2d"
   },
   "outputs": [
    {
     "data": {
      "text/html": [
       "<style>#sk-container-id-1 {color: black;background-color: white;}#sk-container-id-1 pre{padding: 0;}#sk-container-id-1 div.sk-toggleable {background-color: white;}#sk-container-id-1 label.sk-toggleable__label {cursor: pointer;display: block;width: 100%;margin-bottom: 0;padding: 0.3em;box-sizing: border-box;text-align: center;}#sk-container-id-1 label.sk-toggleable__label-arrow:before {content: \"▸\";float: left;margin-right: 0.25em;color: #696969;}#sk-container-id-1 label.sk-toggleable__label-arrow:hover:before {color: black;}#sk-container-id-1 div.sk-estimator:hover label.sk-toggleable__label-arrow:before {color: black;}#sk-container-id-1 div.sk-toggleable__content {max-height: 0;max-width: 0;overflow: hidden;text-align: left;background-color: #f0f8ff;}#sk-container-id-1 div.sk-toggleable__content pre {margin: 0.2em;color: black;border-radius: 0.25em;background-color: #f0f8ff;}#sk-container-id-1 input.sk-toggleable__control:checked~div.sk-toggleable__content {max-height: 200px;max-width: 100%;overflow: auto;}#sk-container-id-1 input.sk-toggleable__control:checked~label.sk-toggleable__label-arrow:before {content: \"▾\";}#sk-container-id-1 div.sk-estimator input.sk-toggleable__control:checked~label.sk-toggleable__label {background-color: #d4ebff;}#sk-container-id-1 div.sk-label input.sk-toggleable__control:checked~label.sk-toggleable__label {background-color: #d4ebff;}#sk-container-id-1 input.sk-hidden--visually {border: 0;clip: rect(1px 1px 1px 1px);clip: rect(1px, 1px, 1px, 1px);height: 1px;margin: -1px;overflow: hidden;padding: 0;position: absolute;width: 1px;}#sk-container-id-1 div.sk-estimator {font-family: monospace;background-color: #f0f8ff;border: 1px dotted black;border-radius: 0.25em;box-sizing: border-box;margin-bottom: 0.5em;}#sk-container-id-1 div.sk-estimator:hover {background-color: #d4ebff;}#sk-container-id-1 div.sk-parallel-item::after {content: \"\";width: 100%;border-bottom: 1px solid gray;flex-grow: 1;}#sk-container-id-1 div.sk-label:hover label.sk-toggleable__label {background-color: #d4ebff;}#sk-container-id-1 div.sk-serial::before {content: \"\";position: absolute;border-left: 1px solid gray;box-sizing: border-box;top: 0;bottom: 0;left: 50%;z-index: 0;}#sk-container-id-1 div.sk-serial {display: flex;flex-direction: column;align-items: center;background-color: white;padding-right: 0.2em;padding-left: 0.2em;position: relative;}#sk-container-id-1 div.sk-item {position: relative;z-index: 1;}#sk-container-id-1 div.sk-parallel {display: flex;align-items: stretch;justify-content: center;background-color: white;position: relative;}#sk-container-id-1 div.sk-item::before, #sk-container-id-1 div.sk-parallel-item::before {content: \"\";position: absolute;border-left: 1px solid gray;box-sizing: border-box;top: 0;bottom: 0;left: 50%;z-index: -1;}#sk-container-id-1 div.sk-parallel-item {display: flex;flex-direction: column;z-index: 1;position: relative;background-color: white;}#sk-container-id-1 div.sk-parallel-item:first-child::after {align-self: flex-end;width: 50%;}#sk-container-id-1 div.sk-parallel-item:last-child::after {align-self: flex-start;width: 50%;}#sk-container-id-1 div.sk-parallel-item:only-child::after {width: 0;}#sk-container-id-1 div.sk-dashed-wrapped {border: 1px dashed gray;margin: 0 0.4em 0.5em 0.4em;box-sizing: border-box;padding-bottom: 0.4em;background-color: white;}#sk-container-id-1 div.sk-label label {font-family: monospace;font-weight: bold;display: inline-block;line-height: 1.2em;}#sk-container-id-1 div.sk-label-container {text-align: center;}#sk-container-id-1 div.sk-container {/* jupyter's `normalize.less` sets `[hidden] { display: none; }` but bootstrap.min.css set `[hidden] { display: none !important; }` so we also need the `!important` here to be able to override the default hidden behavior on the sphinx rendered scikit-learn.org. See: https://github.com/scikit-learn/scikit-learn/issues/21755 */display: inline-block !important;position: relative;}#sk-container-id-1 div.sk-text-repr-fallback {display: none;}</style><div id=\"sk-container-id-1\" class=\"sk-top-container\"><div class=\"sk-text-repr-fallback\"><pre>GradientBoostingRegressor(learning_rate=0.01, max_depth=4, min_samples_split=5,\n",
       "                          n_estimators=500)</pre><b>In a Jupyter environment, please rerun this cell to show the HTML representation or trust the notebook. <br />On GitHub, the HTML representation is unable to render, please try loading this page with nbviewer.org.</b></div><div class=\"sk-container\" hidden><div class=\"sk-item\"><div class=\"sk-estimator sk-toggleable\"><input class=\"sk-toggleable__control sk-hidden--visually\" id=\"sk-estimator-id-1\" type=\"checkbox\" checked><label for=\"sk-estimator-id-1\" class=\"sk-toggleable__label sk-toggleable__label-arrow\">GradientBoostingRegressor</label><div class=\"sk-toggleable__content\"><pre>GradientBoostingRegressor(learning_rate=0.01, max_depth=4, min_samples_split=5,\n",
       "                          n_estimators=500)</pre></div></div></div></div></div>"
      ],
      "text/plain": [
       "GradientBoostingRegressor(learning_rate=0.01, max_depth=4, min_samples_split=5,\n",
       "                          n_estimators=500)"
      ]
     },
     "execution_count": 36,
     "metadata": {},
     "output_type": "execute_result"
    }
   ],
   "source": [
    "reg = GradientBoostingRegressor(**params)\n",
    "reg.fit(X_train, y_train['log_price'])"
   ]
  },
  {
   "cell_type": "code",
   "execution_count": 41,
   "id": "pBlr-fCS9bsZ",
   "metadata": {
    "colab": {
     "base_uri": "https://localhost:8080/"
    },
    "executionInfo": {
     "elapsed": 1800,
     "status": "ok",
     "timestamp": 1679827611268,
     "user": {
      "displayName": "Aurelie NGALULA",
      "userId": "12113917455542123315"
     },
     "user_tz": -120
    },
    "id": "pBlr-fCS9bsZ",
    "outputId": "3fb725a5-92a8-46f7-aefc-fe55d3d39b83"
   },
   "outputs": [
    {
     "name": "stdout",
     "output_type": "stream",
     "text": [
      "R squared on test set: 0.7518\n"
     ]
    }
   ],
   "source": [
    "rsquared = reg.score(X_test,y_test['log_price'])\n",
    "print(\"R squared on test set: {:.4f}\".format(rsquared))"
   ]
  },
  {
   "cell_type": "code",
   "execution_count": 40,
   "id": "k48FQ1lg-cc1",
   "metadata": {
    "colab": {
     "base_uri": "https://localhost:8080/"
    },
    "executionInfo": {
     "elapsed": 1683,
     "status": "ok",
     "timestamp": 1679827595589,
     "user": {
      "displayName": "Aurelie NGALULA",
      "userId": "12113917455542123315"
     },
     "user_tz": -120
    },
    "id": "k48FQ1lg-cc1",
    "outputId": "437fa391-5c13-424d-ce2a-37733a3d5d0b"
   },
   "outputs": [
    {
     "name": "stdout",
     "output_type": "stream",
     "text": [
      " mean absolute percentage error on test set: 0.1622\n"
     ]
    }
   ],
   "source": [
    "mae = mean_absolute_percentage_error(y_test['price'],np.exp(reg.predict(X_test)))\n",
    "print(\" mean absolute percentage error on test set: {:.4f}\".format(mae))"
   ]
  }
 ],
 "metadata": {
  "accelerator": "GPU",
  "colab": {
   "provenance": []
  },
  "gpuClass": "standard",
  "kernelspec": {
   "display_name": "Python 3 (ipykernel)",
   "language": "python",
   "name": "python3"
  },
  "language_info": {
   "codemirror_mode": {
    "name": "ipython",
    "version": 3
   },
   "file_extension": ".py",
   "mimetype": "text/x-python",
   "name": "python",
   "nbconvert_exporter": "python",
   "pygments_lexer": "ipython3",
   "version": "3.9.13"
  }
 },
 "nbformat": 4,
 "nbformat_minor": 5
}
